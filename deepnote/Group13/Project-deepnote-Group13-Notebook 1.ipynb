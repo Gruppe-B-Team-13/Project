{
  "cells": [
    {
      "cell_type": "code",
      "metadata": {
        "source_hash": "3ac38d45",
        "execution_start": 1742991547597,
        "execution_millis": 1,
        "execution_context_id": "1de78e5f-f94e-46c3-97fe-671e159b2a5f",
        "cell_id": "8a3bf81a3f1d42b29908afc8df6301de",
        "deepnote_cell_type": "code"
      },
      "source": "print(\"Hello team members!\")",
      "block_group": "c3638e10458a49109410f3982c7677be",
      "execution_count": 3,
      "outputs": [],
      "outputs_reference": null,
      "content_dependencies": null
    },
    {
      "cell_type": "code",
      "metadata": {
        "source_hash": "d4489e5f",
        "execution_start": 1742992534378,
        "execution_millis": 1,
        "execution_context_id": "ec861274-7810-4f90-b19c-15ffcd2dd7a6",
        "cell_id": "339e2be51c114faf8ba7c0672c38454d",
        "deepnote_cell_type": "code"
      },
      "source": "print(\"Hello team members! SECOND TIME\")",
      "block_group": "48d1dec4d978405d9024c9e31e0c95a5",
      "execution_count": 1,
      "outputs": [],
      "outputs_reference": null,
      "content_dependencies": null
    },
    {
      "cell_type": "code",
      "metadata": {
        "source_hash": "baa96690",
        "execution_start": 1745746623694,
        "execution_millis": 13,
        "execution_context_id": "1c908b80-e2a4-45bc-9253-40b5796fb36f",
        "cell_id": "61f566a6b0934b78856f07bcc498f9c0",
        "deepnote_cell_type": "code"
      },
      "source": "class Hotel:\n    def __init__(self, name, address, stars):\n        self.__name = name\n        self.__address = address\n        self.__stars = stars\n        self.__rooms = []\n\n    @property\n    def name(self):\n        return self.__name\n\n    @property\n    def address(self):\n        return self.__address\n\n    @property\n    def stars(self):\n        return self.__stars\n\n\nclass Address:\n    def __init__(self, street, city, country):\n        self.__street = street\n        self.__city = city\n        self.__country = country\n\n    @property\n    def street(self):\n        return self.__street\n\n    @property\n    def city(self):\n        return self.__city\n\n    @property\n    def country(self):\n        return self.__country\n\n\nclass Rooms:\n    def__init__(self, room_type, price_per_night, furnishing):\n        self.__room_type = room_type\n        self.__price_per_night = price_per_night\n        self.__furnishing = []\n\n\n    @property\n    def room_type(self):\n        return self.__room_type\n\n    @property\n    def price_per_night(self):\n        return self.__price_per_night\n\n    @property\n    def furnishing(self):\n        return self.__furnishing\n\nClass Guests:\n    def __init__(self, name, email, phone_number, address, guest-id):\n        self.__name = name\n        self.__email = email\n        self.__phone_number = phone_number\n        self.__address = address\n        self.__guest-id = []]\n\n    @property\n    def name(self):\n        return self.__name\n\n    @property\n    def email(self):\n        return self.__email\n\n    @property\n    def phone_number(self):\n        return self.__phone_number\n\n    @property\n    def address(self):\n        return self.__address\n\n    @property\n    def guest-id(self):\n        return self.__guest-id\n\n\nClass Services:\n    def __init__(self, service_name, service_price):\n        self.__service_name = service_name\n        self.__service_price = service_price\n       \n\n    @property\n    def service_name(self):\n        return self.__service_name\n\n    @property\n    def service_price(self):\n        return self.__service_price\n\nClass Payment_manager:\n    def __init__(self, payment_method, payment_amount):\n        self.__payment_method = []\n        self.__payment_amount = payment_amount\n       \n\n    @property\n    def payment_amount(self):\n        return self.__payment_amount\n\n\npayment_methods = [cash, credit_card, debit_card, bank_transfer, paypal, apple_pay, google_pay]\n\n\n    \n\n\n\nClass Currencies:\n    def __init__(self,euro, schweizer_franken,us_dollar):\n        self.__euro = euro\n        self.__schweizer_franken = schweizer_franken\n        self.__us_dollar = us_dollar\n\n\n\n    @property\n    def euro(self):\n        return self.__euro\n\n    @property\n    def schweizer_franken(self):\n        return self.__schweizer_franken\n\n    @property\n    def us_dollar(self):\n        return self.__us_dollar\n\nClass Bookings:\n    def __init__(self, booking_id: int,check_in_date, check_out_date,is_cancelled:bool,total_amount:float, guest, room):\n        self.__check_in_date = check_in_date\n        self.__check_out_date = check_out_date\n        self.is_cancelled = is_cancelled\n        self.total_amout = total_amount\n        self.guest = guest #Link zum \"Guest\"-Objekt(Hier wird das Objekt der Klasse \"Guest\" erwartet)\n        self.room = room  #Link zum \"Room\"-Objekt(Hier wird das Objekt der Klasse \"Room\" erwartet)\n\n    @property\n    def booking_id(self):\n        return self.__booking_id\n\n    @property\n    def check_in_date(self):\n        return self.check_in_date\n\n    @property\n    def check_out_date(self):\n        return self.check_out_date\n\n    @property\n    def is_cancelled(self):\n        return self.is_cancelled\n\n    @property\n    def total_amount(self):\n        return self.total_amount\n\n    @total_amount.setter\n    def total_amount(self, value:float):\n        if value < 0:\n            raise ValueError(\"Total amount cannot be negative\")\n        self.total_amount = value\n\nClass Facilities:\n    def __init__(self, facilities_name, facilities_description):\n        self.__facilities_name = facilities_name\n        self.__facilities_description = facilities_description\n\n\n    @property\n    def facilities_name(self):\n        return self.__facilities_name\n\n    @property\n    def facilities_description(self):\n        return self.__facilities_description\n\n    \nClass Invoice_manager:\n   def __init__(self, invoice_number, invoice_date):\n        self.__invoice_number = invoice_number\n        self.__invoice_date = invoice_date\n\n\n    @property\n    def invoice_number(self):\n        return self.__invoice_number\n\n    @property\n    def invoice_date(self):\n        return self.__invoice_date \n\nClass Review_manager:\n    def __init__(self, review_text, review_rating):\n        self.__review_text = review_text\n        self.__review_rating = review_rating\n\n\n    @property\n    def review_text(self):\n        return self.__review_text\n\n    @property\n    def review_rating(self):\n        return self.__review_rating\n\nClass invoice:\n    def__init__(self, invoice_id, invoice_date, total_amount):\n        self.__invoice_id = invoice_id\n        self.__invoice_date = invoice_date\n        self.__total_amount = total_amount\n\n    def operation(self) -> None:\n        #Platzhalter für Opaeration\n        print(\"Operation performed on invoice.\")\n\n    @property\n    def invoice_id(self):\n        return self.__invoice_id\n\n    @property\n    def invoice_date(self):\n        return self.__invoice_date\n\n    @property\n    def total_amount(self):\n        return self.__total_amount\n\n\n",
      "block_group": "85a777a490bf49058a6f6b0284e105c9",
      "execution_count": 4,
      "outputs": [],
      "outputs_reference": null,
      "content_dependencies": null
    },
    {
      "cell_type": "code",
      "metadata": {
        "source_hash": "4540bd9a",
        "execution_start": 1744314672029,
        "execution_millis": 3,
        "execution_context_id": "f36d689c-c8fb-40b1-8bae-63e3da0328a9",
        "cell_id": "601c693fb4074932b2050a9e2ce5b533",
        "deepnote_cell_type": "code"
      },
      "source": "address = Address(\"Rue de la Paix\", \"Paris\", \"France\")\n\nhotel = Hotel (\"Eden\", address, 5)\n\nprint(hotel.name)\n\nprint(hotel.address.street)\n",
      "block_group": "43582d0168a8472bbf954f7218e73f88",
      "execution_count": 2,
      "outputs": [],
      "outputs_reference": null,
      "content_dependencies": null
    },
    {
      "cell_type": "code",
      "metadata": {
        "cell_id": "b359669a430d4e7fbd88dd0bf8d15b56",
        "deepnote_cell_type": "code"
      },
      "source": "",
      "block_group": "5d446515e0cc47018d3230e8d7c775d9",
      "execution_count": null,
      "outputs": [],
      "outputs_reference": null,
      "content_dependencies": null
    },
    {
      "cell_type": "markdown",
      "source": "<a style='text-decoration:none;line-height:16px;display:flex;color:#5B5B62;padding:10px;justify-content:end;' href='https://deepnote.com?utm_source=created-in-deepnote-cell&projectId=429e0553-6499-4e09-987f-1a124f4e7b05' target=\"_blank\">\n<img alt='Created in deepnote.com' style='display:inline;max-height:16px;margin:0px;margin-right:7.5px;' src='data:image/svg+xml;base64,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' > </img>\nCreated in <span style='font-weight:600;margin-left:4px;'>Deepnote</span></a>",
      "metadata": {
        "created_in_deepnote_cell": true,
        "deepnote_cell_type": "markdown"
      }
    }
  ],
  "nbformat": 4,
  "nbformat_minor": 0,
  "metadata": {
    "deepnote_persisted_session": {
      "createdAt": "2025-04-10T20:12:54.844Z"
    },
    "deepnote_notebook_id": "a2eee2a11bca4384bc7d44a8134a9efc"
  }
}