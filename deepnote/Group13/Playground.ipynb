{
  "cells": [
    {
      "cell_type": "code",
      "metadata": {
        "source_hash": "4c2e4dd6",
        "execution_start": 1745341602074,
        "execution_millis": 1,
        "execution_context_id": "083459c4-274b-42bc-9763-b147074280c1",
        "cell_id": "d7d0b17c974f497aa57f9d331cf74ed0",
        "deepnote_cell_type": "code"
      },
      "source": "from datetime import date\nimport os",
      "block_group": "0087fe92a71841ad9ecdfde1623ce595",
      "execution_count": 1,
      "outputs": [],
      "outputs_reference": null,
      "content_dependencies": null
    },
    {
      "cell_type": "code",
      "metadata": {
        "source_hash": "179baa49",
        "execution_start": 1745341602125,
        "execution_millis": 0,
        "execution_context_id": "083459c4-274b-42bc-9763-b147074280c1",
        "cell_id": "2d0243bb374f48e98ad71dc9c6397f4b",
        "deepnote_cell_type": "code"
      },
      "source": "import sqlite3\nimport pandas as pd\nfrom contextlib import closing",
      "block_group": "2d0243bb374f48e98ad71dc9c6397f4b",
      "execution_count": 2,
      "outputs": [],
      "outputs_reference": null,
      "content_dependencies": null
    },
    {
      "cell_type": "code",
      "metadata": {
        "source_hash": "3dc8e3e1",
        "execution_start": 1745341602224,
        "execution_millis": 1,
        "execution_context_id": "083459c4-274b-42bc-9763-b147074280c1",
        "cell_id": "8b0abf561226405188a43ad6c37e606a",
        "deepnote_cell_type": "code"
      },
      "source": "adresse1 = Address(\n    address_id=1,\n    street=\"Mattweg\",\n    house_number=\"10\",\n    city=\"Arlesheim\",\n    zip_code=\"4144\",\n    country=\"Schweiz\"\n)\n",
      "block_group": "0c593536d94a44489eb68c236c4bf20d",
      "execution_count": 4,
      "outputs": [],
      "outputs_reference": null,
      "content_dependencies": null
    },
    {
      "cell_type": "code",
      "metadata": {
        "source_hash": "aa2e45",
        "execution_start": 1745341602274,
        "execution_millis": 1,
        "execution_context_id": "083459c4-274b-42bc-9763-b147074280c1",
        "cell_id": "e41299443ab64113b30566808d8ead4b",
        "deepnote_cell_type": "code"
      },
      "source": "print(adresse1.get_address())\nprint(adresse1.street)",
      "block_group": "ec2f90e76cc34959909ff17dd8941085",
      "execution_count": 5,
      "outputs": [],
      "outputs_reference": null,
      "content_dependencies": null
    },
    {
      "cell_type": "code",
      "metadata": {
        "source_hash": "bf83be56",
        "execution_start": 1745341602335,
        "execution_millis": 395,
        "execution_context_id": "083459c4-274b-42bc-9763-b147074280c1",
        "cell_id": "add934c204114298a42e50d3dcd1dd69",
        "deepnote_cell_type": "code"
      },
      "source": "buchung = Bookings(\n    booking_id=1,\n    check_in_date=\"2025-06-01\",\n    check_out_date=\"2025-06-07\",\n    is_cancelled=False,\n    booking_date=\"2025-04-21\",\n    total_amount=399.00,\n    room_id=305,\n    guest_id=1234,\n    guest_name=\"Max Muster\")",
      "block_group": "572bbcebab6a44d79ebc2d3f0ef606ea",
      "execution_count": 6,
      "outputs": [],
      "outputs_reference": null,
      "content_dependencies": null
    },
    {
      "cell_type": "code",
      "metadata": {
        "source_hash": "608474dc",
        "execution_start": 1745337067866,
        "execution_millis": 4,
        "execution_context_id": "a6c3ed80-4c55-494d-af21-a7c37036348f",
        "deepnote_to_be_reexecuted": true,
        "cell_id": "cb6966f75d324763954f0f63dfcc185f",
        "deepnote_cell_type": "code"
      },
      "source": "print(buchung.get_booking_summary())",
      "block_group": "8af85b343bbb4fe994e72729b1dcfd57",
      "execution_count": 49,
      "outputs": [],
      "outputs_reference": null,
      "content_dependencies": null
    },
    {
      "cell_type": "code",
      "metadata": {
        "source_hash": "2be38c43",
        "execution_start": 1745337074809,
        "execution_millis": 6,
        "execution_context_id": "a6c3ed80-4c55-494d-af21-a7c37036348f",
        "deepnote_to_be_reexecuted": true,
        "cell_id": "82242d5f877a44d7a343fd49de7973f3",
        "deepnote_cell_type": "code"
      },
      "source": "buchung.cancel_booking()\nprint(buchung.get_booking_summary())",
      "block_group": "a0779ec1b6354cd28b44e70ca1ed4053",
      "execution_count": 52,
      "outputs": [],
      "outputs_reference": null,
      "content_dependencies": null
    },
    {
      "cell_type": "code",
      "metadata": {
        "source_hash": "600a02f9",
        "execution_start": 1745351273735,
        "execution_millis": 0,
        "execution_context_id": "75f068be-501c-451d-b042-04e4eb98a022",
        "cell_id": "ef9d558f59064916b2aa1f77447eb53b",
        "deepnote_cell_type": "code"
      },
      "source": "class Bookings:\n    __next_id = 1\n    def __init__(self, check_in_date, check_out_date, is_cancelled, booking_date, total_amount, room_id, guest, payment_id=None, currency_id=None):\n        self.__booking_id = Bookings.__next_id\n        Bookings.__next_id += 1\n        self.__check_in_date = check_in_date\n        self.__check_out_date = check_out_date\n        self.__is_cancelled = is_cancelled\n        self.__booking_date = booking_date\n        self.__total_amount = total_amount\n        self.__original_total_amount = total_amount\n        self.__room_id = room_id\n        self.__guest = guest\n        self.__payment_id = payment_id\n        self.__currency_id = currency_id\n\n    @property\n    def booking_id(self):\n        return self.__booking_id\n\n    @property\n    def check_in_date(self):\n        return self.__check_in_date\n\n    @property\n    def check_out_date(self):\n        return self.__check_out_date\n\n    @property\n    def is_cancelled(self):\n        return self.__is_cancelled\n\n    @property\n    def booking_date(self):\n        return self.__booking_date\n\n    @property\n    def total_amount(self):\n        return self.__total_amount\n    \n    @property\n    def original_total_amount(self):\n        return self.__original_total_amount\n\n    @property\n    def available_points(self):\n        return self.__guest.loyalty_points\n\n    @property\n    def applied_points(self):\n        return min(self.__total_amount, self.available_points)\n\n    @property\n    def room_id(self):\n        return self.__room_id\n\n    @property\n    def guest(self):\n        return self.__guest\n    \n    @property\n    def payment_id(self):\n        return self.__payment_id\n\n    @property\n    def currency_id(self):\n        return self.__currency_id\n\n    def cancel_booking(self):\n        self.__is_cancelled = True\n    \n    def get_booking_summary(self):\n        storniert = \"Ja\" if self.__is_cancelled else \"Nein\"\n        return f\"Buchung {self.__booking_id}: {self.__guest.get_full_name()} - {self.__check_in_date} bis {self.__check_out_date} - Zimmer {self.__room_id} - Betrag: CHF {self.__total_amount} - Storniert: {storniert}\"\n    \n    def apply_loyalty_points_from_guest(self):\n        if self.applied_points <= 0:\n            print(\"Keine Treuepunkte verfügbar.\")\n            return\n\n        used_points = self.applied_points\n        self.__guest.deduct_points(used_points)\n        self.__total_amount -= used_points\n        print(f\"{used_points} Punkte verwendet. Neuer Betrag: CHF {self.__total_amount:.2f}\")\n\n\n\n    def add_loyalty_points_to_guest(self):\n        if self.original_total_amount < 100:\n            print(\"Keine Treuepunkte hinzugefügt, da der Mindestbetrag 100 CHF beträgt.\")\n            return\n        points = int(self.original_total_amount // 10)  \n        self.__guest.add_points(points)\n        print(f\"{points} Punkte hinzugefügt. Neuer Punktestand: {self.__guest.loyalty_points}\")\n",
      "block_group": "2e4879f4f2434bff81371a3a2c3e4628",
      "execution_count": 317,
      "outputs": [],
      "outputs_reference": null,
      "content_dependencies": null
    },
    {
      "cell_type": "code",
      "metadata": {
        "source_hash": "40f762e8",
        "execution_start": 1745350292865,
        "execution_millis": 1,
        "execution_context_id": "75f068be-501c-451d-b042-04e4eb98a022",
        "cell_id": "b64e0a5258dc424888fb8e8442560479",
        "deepnote_cell_type": "code"
      },
      "source": "print(Booking8.applied_points)\nprint(Booking8.total_amount)\nprint(Booking8.total_amount_discounted)\nprint(Booking8.guest.deduct_points(Booking8.applied_points))\nprint(Booking8.guest.loyalty_points)",
      "block_group": "32f7c53084dd4e5a9a19d8aae7208788",
      "execution_count": 269,
      "outputs": [],
      "outputs_reference": null,
      "content_dependencies": null
    },
    {
      "cell_type": "code",
      "metadata": {
        "source_hash": "5ecb3a7b",
        "execution_start": 1745351291395,
        "execution_millis": 0,
        "execution_context_id": "75f068be-501c-451d-b042-04e4eb98a022",
        "cell_id": "9f03075dfe2c4026bd68cfd4a86016aa",
        "deepnote_cell_type": "code"
      },
      "source": "Booking10 = Bookings(\n    check_in_date=\"2025-06-02\",\n    check_out_date=\"2025-06-08\",\n    is_cancelled=False,\n    booking_date=\"2025-04-21\",\n    total_amount=19.00,\n    room_id=305,\n    guest=guest4\n)\nBooking10.apply_loyalty_points_from_guest()\nBooking10.add_loyalty_points_to_guest()\nprint(Booking10.get_booking_summary())\nprint(f\"Treuepunkte des Gastes: {Booking10.guest.loyalty_points}\")",
      "block_group": "c81710b99e204867be51455a2f7356c1",
      "execution_count": 320,
      "outputs": [],
      "outputs_reference": null,
      "content_dependencies": null
    },
    {
      "cell_type": "code",
      "metadata": {
        "source_hash": "461ee5f0",
        "execution_start": 1745350962445,
        "execution_millis": 1,
        "execution_context_id": "75f068be-501c-451d-b042-04e4eb98a022",
        "cell_id": "ae2bb1e48f2c45c7bf1920de5befded6",
        "deepnote_cell_type": "code"
      },
      "source": "print(guest4.loyalty_points)",
      "block_group": "1bdcd7b3cf5a47f0a2e348697ec50fdc",
      "execution_count": 308,
      "outputs": [],
      "outputs_reference": null,
      "content_dependencies": null
    },
    {
      "cell_type": "code",
      "metadata": {
        "source_hash": "f625fd31",
        "execution_start": 1745349598315,
        "execution_millis": 0,
        "execution_context_id": "75f068be-501c-451d-b042-04e4eb98a022",
        "cell_id": "eb9d891646bc4eab907681f27eb75250",
        "deepnote_cell_type": "code"
      },
      "source": "class Guests:\n    __next_id = 1  \n\n    def __init__(self,first_name, last_name, email, phone_number, address, loyalty_points=0, booking_history=None):\n        self.__guest_id = Guests.__next_id\n        Guests.__next_id += 1  \n        self.__first_name = first_name\n        self.__last_name = last_name\n        self.__email = email\n        self.__phone_number = phone_number\n        self.__address = address\n        self.__loyalty_points = loyalty_points\n        self.__booking_history = booking_history if booking_history is not None else []\n        \n    @property\n    def guest_id(self):\n        return self.__guest_id\n        \n    @property\n    def first_name(self):\n        return self.__first_name\n\n    @property\n    def last_name(self):\n        return self.__last_name\n\n    @property\n    def email(self):\n        return self.__email\n\n    @property\n    def phone_number(self):\n        return self.__phone_number\n\n    @property\n    def address(self):\n        return self.__address\n\n    @property\n    def loyalty_points(self):\n        return self.__loyalty_points\n\n    def get_full_name(self):\n        return f\"{self.__first_name} {self.__last_name}\"\n\n    def deduct_points(self, points):\n        if points > self.__loyalty_points:\n            print(\"Nicht genügend Treuepunkte vorhanden.\")\n            return\n        self.__loyalty_points -= points\n\n    def add_points(self, points):\n        self.__loyalty_points += points\n\n    def get_guest_summary(self):\n        return f\"{self.__guest_id} - Name: {self.__first_name} {self.__last_name} - Email: {self.__email} - Telefonnummer: {self.__phone_number} - Adresse: {self.__address} - Treuepunkte: {self.__loyalty_points}\"",
      "block_group": "98d1752a83744493b5173e71053cc14d",
      "execution_count": 245,
      "outputs": [],
      "outputs_reference": null,
      "content_dependencies": null
    },
    {
      "cell_type": "code",
      "metadata": {
        "source_hash": "2f265ee5",
        "execution_start": 1745344953685,
        "execution_millis": 1,
        "execution_context_id": "75f068be-501c-451d-b042-04e4eb98a022",
        "cell_id": "2983054c37934a5f8cbcdc0950dcc211",
        "deepnote_cell_type": "code"
      },
      "source": "class Address:\n    __next_id = 1 \n\n    def __init__(self, street, house_number, city, zip_code, country):\n        self.__address_id = Address.__next_id\n        Address.__next_id += 1 \n        self.__street = street\n        self.__house_number = house_number\n        self.__city = city\n        self.__zip_code = zip_code\n        self.__country = country\n\n    @property\n    def address_id(self):\n        return self.__address_id\n\n    @property\n    def street(self):\n        return self.__street\n\n    @property\n    def house_number(self):\n        return self.__house_number\n\n    @property\n    def city(self):\n        return self.__city\n\n    @property\n    def zip_code(self):\n        return self.__zip_code\n\n    @property\n    def country(self):\n        return self.__country\n\n    def get_address_summary(self):\n        return f\"{self.__address_id} - Strasse: {self.__street} {self.__house_number}, {self.__zip_code} {self.__city}, {self.__country}\"\n",
      "block_group": "5ba09b9a283a4c9da0bb74d6b9c6d93a",
      "execution_count": 19,
      "outputs": [],
      "outputs_reference": null,
      "content_dependencies": null
    },
    {
      "cell_type": "code",
      "metadata": {
        "source_hash": "d7ec3543",
        "execution_start": 1745344960008,
        "execution_millis": 2,
        "execution_context_id": "75f068be-501c-451d-b042-04e4eb98a022",
        "cell_id": "88c9087d16474d8596a513c16b9cacf8",
        "deepnote_cell_type": "code"
      },
      "source": "address3 = Address(\n    street=\"Mustxerstraße\",\n    house_number=\"1\",\n    city=\"Musterstadt\",\n    zip_code=\"12345\",\n    country=\"Musterland\"\n)\n\nprint(address3.get_address_summary())",
      "block_group": "7dddc9efbd514b9c843e5d4e3ef2a6d1",
      "execution_count": 22,
      "outputs": [],
      "outputs_reference": null,
      "content_dependencies": null
    },
    {
      "cell_type": "code",
      "metadata": {
        "source_hash": "abd46bf7",
        "execution_start": 1745350649315,
        "execution_millis": 1,
        "execution_context_id": "75f068be-501c-451d-b042-04e4eb98a022",
        "cell_id": "03bf4d2be3624dce940b7fede1cdbb6e",
        "deepnote_cell_type": "code"
      },
      "source": "guest4 = Guests(\n    first_name=\"ax\",\n    last_name=\"Mustermann\",\n    email=\"max.mustermann@me.com\",\n    phone_number=\"0123456789\",\n    address=address3,\n    loyalty_points=200,\n    booking_history=[]\n)\n\nprint(guest4.get_guest_summary())",
      "block_group": "d407866f6e6d46eaa56ed19132ff605a",
      "execution_count": 290,
      "outputs": [],
      "outputs_reference": null,
      "content_dependencies": null
    },
    {
      "cell_type": "code",
      "metadata": {
        "source_hash": "b0b1bf71",
        "execution_start": 1745341792304,
        "execution_millis": 1,
        "execution_context_id": "083459c4-274b-42bc-9763-b147074280c1",
        "cell_id": "70fc8ab6e43f491cb90c732c60b2fd19",
        "deepnote_cell_type": "code"
      },
      "source": "print(guest2.loyalty_points)",
      "block_group": "3f1c5e9438a547b883bf986dc0be19cb",
      "execution_count": 30,
      "outputs": [],
      "outputs_reference": null,
      "content_dependencies": null
    },
    {
      "cell_type": "code",
      "metadata": {
        "cell_id": "ce62218610d54a0fa131e607ea85443c",
        "deepnote_cell_type": "code"
      },
      "source": "",
      "block_group": "38532c6db46e4b53b9150f89c0e62b42",
      "execution_count": null,
      "outputs": [],
      "outputs_reference": null,
      "content_dependencies": null
    },
    {
      "cell_type": "markdown",
      "source": "<a style='text-decoration:none;line-height:16px;display:flex;color:#5B5B62;padding:10px;justify-content:end;' href='https://deepnote.com?utm_source=created-in-deepnote-cell&projectId=429e0553-6499-4e09-987f-1a124f4e7b05' target=\"_blank\">\n<img alt='Created in deepnote.com' style='display:inline;max-height:16px;margin:0px;margin-right:7.5px;' src='data:image/svg+xml;base64,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' > </img>\nCreated in <span style='font-weight:600;margin-left:4px;'>Deepnote</span></a>",
      "metadata": {
        "created_in_deepnote_cell": true,
        "deepnote_cell_type": "markdown"
      }
    }
  ],
  "nbformat": 4,
  "nbformat_minor": 0,
  "metadata": {
    "deepnote_persisted_session": {
      "createdAt": "2025-04-22T20:05:21.879Z"
    },
    "deepnote_notebook_id": "1ae41e88db18497e984af05d86e37f0a"
  }
}